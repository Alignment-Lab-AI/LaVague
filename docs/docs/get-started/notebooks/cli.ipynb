{
 "cells": [
  {
   "cell_type": "markdown",
   "metadata": {},
   "source": [
    "# LaVague: CLI guide\n",
    "\n",
    "This notebook will help you run the LaVague CLI for the first time. \n",
    "\n",
    "The Lavague CLI provides a fast way to get started with our demo and eval tools:\n",
    "\n",
    "- `demo` launches an interactive Gradio demo where you can perform web actions from natural language instructions\n",
    "- `eval` allows you to evaluate the performance of the Large Action Model"
   ]
  },
  {
   "cell_type": "markdown",
   "metadata": {},
   "source": [
    "## Installation\n",
    "\n",
    "Install the `lavague` framework using `pip`"
   ]
  },
  {
   "cell_type": "code",
   "execution_count": null,
   "metadata": {},
   "outputs": [],
   "source": [
    "!pip install lavague"
   ]
  },
  {
   "cell_type": "markdown",
   "metadata": {},
   "source": [
    "## OpenAI API key\n",
    "\n",
    "By default, LaVague uses OpenAI GPT3.5 and an OpenAI light embedder.\n",
    "\n",
    "- Local: set the `OPENAI_API_KEY` environment variable with your OpenAI key\n",
    "- Google Colab: set it in the command below."
   ]
  },
  {
   "cell_type": "code",
   "execution_count": null,
   "metadata": {},
   "outputs": [],
   "source": [
    "import os\n",
    "\n",
    "os.environ['OPENAI_API_KEY'] = # ADD YOUR OPENAI KEY HERE"
   ]
  },
  {
   "cell_type": "markdown",
   "metadata": {},
   "source": [
    "## CLI: `demo`\n",
    "\n",
    "Launches an interactive *Gradio* demo where you can perform web actions from natural language instructions.\n",
    "\n",
    "Make sure to load the local/remote gradio URL depending on your environment"
   ]
  },
  {
   "cell_type": "code",
   "execution_count": null,
   "metadata": {},
   "outputs": [],
   "source": [
    "!lavague demo"
   ]
  },
  {
   "cell_type": "markdown",
   "metadata": {},
   "source": [
    "## CLI: `eval`\n",
    "\n",
    "The eval command allows you to quickly evaluate the performance of LaVague's Large Action Model by testing the precision and recall of LaVague's LLM and retriever on a batch of instructions against ground truths contained in an evaluation dataset.\n",
    "\n",
    "We provide datasets that can be used for evaluating LaVague in our [BigAction](https://huggingface.co/BigAction) repository on HuggingFace."
   ]
  },
  {
   "cell_type": "code",
   "execution_count": null,
   "metadata": {},
   "outputs": [],
   "source": [
    "# set the base URL\n",
    "!lavague eval --dataset \"BigAction/the-wave-clean\" --nb-data 25"
   ]
  },
  {
   "cell_type": "markdown",
   "metadata": {},
   "source": [
    "If you have any further questions, join us on the LaVague Discord [here](https://discord.com/invite/SDxn9KpqX9)."
   ]
  }
 ],
 "metadata": {
  "kernelspec": {
   "display_name": "Python 3",
   "language": "python",
   "name": "python3"
  },
  "language_info": {
   "codemirror_mode": {
    "name": "ipython",
    "version": 3
   },
   "file_extension": ".py",
   "mimetype": "text/x-python",
   "name": "python",
   "nbconvert_exporter": "python",
   "pygments_lexer": "ipython3",
   "version": "3.10.14"
  }
 },
 "nbformat": 4,
 "nbformat_minor": 2
}
