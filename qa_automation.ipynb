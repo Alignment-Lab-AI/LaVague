{
 "cells": [
  {
   "cell_type": "code",
   "execution_count": null,
   "metadata": {},
   "outputs": [],
   "source": [
    "%load_ext autoreload"
   ]
  },
  {
   "cell_type": "code",
   "execution_count": null,
   "metadata": {},
   "outputs": [],
   "source": [
    "!pip install pytest pytest-bdd"
   ]
  },
  {
   "cell_type": "code",
   "execution_count": null,
   "metadata": {},
   "outputs": [],
   "source": [
    "from lavague.core import  WorldModel, ActionEngine\n",
    "from lavague.core.agents import WebAgent\n",
    "from lavague.drivers.selenium import SeleniumDriver"
   ]
  },
  {
   "cell_type": "code",
   "execution_count": null,
   "metadata": {},
   "outputs": [],
   "source": [
    "# llm = gemini...\n",
    "# pass llm to action engine\n",
    "\n",
    "selenium_driver = SeleniumDriver(headless=False)\n",
    "world_model = WorldModel()\n",
    "action_engine = ActionEngine(selenium_driver)\n",
    "agent = WebAgent(world_model, action_engine)"
   ]
  },
  {
   "cell_type": "code",
   "execution_count": null,
   "metadata": {},
   "outputs": [],
   "source": [
    "\n",
    "test_case = \"\"\"\n",
    "Scenario: Submission with missing phone number\n",
    "      Given I am on the job application page\n",
    "      When I enter \"John\" in the \"First Name\" field\n",
    "      And I enter \"Doe\" in the \"Last Name\" field\n",
    "      And I enter \"john.doe@example.com\" in the \"Email Address\" field\n",
    "      And I leave the \"Phone Number\" field empty\n",
    "      And I enter \"I am very interested in this position.\" in the \"Cover Letter\" field\n",
    "      And I click the \"Apply\" button\n",
    "      Then I should see an error message for the \"Phone Number\" field\n",
    "\"\"\"\n",
    "\n",
    "URL = \"https://form.jotform.com/241472287797370\"\n",
    "\n",
    "OBJECTIVE = f\"Run this test case: \\n\\n{test_case}\"\n",
    "\n"
   ]
  },
  {
   "cell_type": "code",
   "execution_count": null,
   "metadata": {},
   "outputs": [],
   "source": [
    "agent.get(URL)\n",
    "agent.run(OBJECTIVE)"
   ]
  },
  {
   "cell_type": "code",
   "execution_count": null,
   "metadata": {},
   "outputs": [],
   "source": [
    "import pandas as pd\n",
    "\n",
    "logs = agent.logger.return_pandas()\n",
    "\n",
    "# logs = pd.read_csv(\"logs_29052023-1157.csv\")"
   ]
  },
  {
   "cell_type": "code",
   "execution_count": null,
   "metadata": {},
   "outputs": [],
   "source": [
    "logs.head()"
   ]
  },
  {
   "cell_type": "code",
   "execution_count": null,
   "metadata": {},
   "outputs": [],
   "source": [
    "logs.info()"
   ]
  },
  {
   "cell_type": "code",
   "execution_count": null,
   "metadata": {},
   "outputs": [],
   "source": [
    "# extract full code\n",
    "\n",
    "full_code = \"\\n\".join(logs['code'].dropna())\n",
    "full_code"
   ]
  },
  {
   "cell_type": "code",
   "execution_count": null,
   "metadata": {},
   "outputs": [],
   "source": [
    "last_step = logs.iloc[-1]"
   ]
  },
  {
   "cell_type": "code",
   "execution_count": null,
   "metadata": {},
   "outputs": [],
   "source": [
    "# handle last screenshot\n",
    "\n",
    "# # extract last screenshot of last step (test outcome)\n",
    "# last_screenshot = last_step['screenshots'][-1]\n",
    "# last_screenshot.show()\n",
    "# # last_screenshot.path()\n",
    "\n",
    "\n",
    "from PIL import Image\n",
    "import base64\n",
    "from io import BytesIO\n",
    "import os\n",
    "\n",
    "def get_latest_screenshot_path(directory):\n",
    "    # List all files in the directory\n",
    "    files = os.listdir(directory)\n",
    "    \n",
    "    # Get the full path of the files\n",
    "    full_paths = [os.path.join(directory, f) for f in files]\n",
    "    \n",
    "    # Find the most recently modified file\n",
    "    latest_file = max(full_paths, key=os.path.getmtime)\n",
    "    \n",
    "    return latest_file\n",
    "\n",
    "def pil_image_to_base64(image_path):\n",
    "    # Open the image file\n",
    "    with Image.open(image_path) as img:\n",
    "        # Convert image to BytesIO object\n",
    "        # img.show()\n",
    "        buffered = BytesIO()\n",
    "        img.save(buffered, format=\"PNG\")\n",
    "        # Encode the BytesIO object to base64\n",
    "        img_str = base64.b64encode(buffered.getvalue()).decode(\"utf-8\")\n",
    "    return img_str\n",
    "\n",
    "last_screenshot_path = get_latest_screenshot_path(last_step[\"screenshots_path\"])\n",
    "b64_img = pil_image_to_base64(last_screenshot_path)"
   ]
  },
  {
   "cell_type": "code",
   "execution_count": null,
   "metadata": {},
   "outputs": [],
   "source": [
    "last_html = last_step['html']\n",
    "last_html"
   ]
  },
  {
   "cell_type": "code",
   "execution_count": null,
   "metadata": {},
   "outputs": [],
   "source": [
    "nodes = action_engine.get_nodes(f\"We have ran the test case, generate a pytest-bdd assert statement.\\n\\ntest case:\\n{test_case}\")"
   ]
  },
  {
   "cell_type": "code",
   "execution_count": null,
   "metadata": {},
   "outputs": [],
   "source": [
    "nodes"
   ]
  },
  {
   "cell_type": "code",
   "execution_count": null,
   "metadata": {},
   "outputs": [],
   "source": [
    "EXAMPLES = \"\"\"\n",
    "import pytest\n",
    "from selenium import webdriver\n",
    "from selenium.webdriver.common.by import By\n",
    "from selenium.webdriver.support.ui import WebDriverWait\n",
    "from selenium.webdriver.support import expected_conditions as EC\n",
    "from pytest_bdd import scenarios, given, when, then\n",
    "\n",
    "# Constants\n",
    "BASE_URL = 'https://form.jotform.com/241472287797370'\n",
    "\n",
    "# Scenarios\n",
    "scenarios('test_form_submission.feature')\n",
    "\n",
    "# Fixtures\n",
    "@pytest.fixture\n",
    "def browser():\n",
    "    driver = webdriver.Chrome()\n",
    "    driver.implicitly_wait(10)\n",
    "    driver.get(BASE_URL)\n",
    "    yield driver\n",
    "    driver.quit()\n",
    "\n",
    "# Steps\n",
    "@given('I am on the job application page')\n",
    "def i_am_on_the_job_application_page(browser):\n",
    "    pass\n",
    "\n",
    "@when('I enter \"John\" in the \"First Name\" field')\n",
    "def i_enter_first_name(browser):\n",
    "    first_name_field = browser.find_element(By.XPATH, \"/html/body/form/div[1]/ul/li[2]/div/div/span[1]/input\")\n",
    "    first_name_field.send_keys(\"John\")\n",
    "\n",
    "@when('I enter \"Doe\" in the \"Last Name\" field')\n",
    "def i_enter_last_name(browser):\n",
    "    last_name_field = browser.find_element(By.XPATH, \"/html/body/form/div[1]/ul/li[2]/div/div/span[2]/input\")\n",
    "    last_name_field.send_keys(\"Doe\")\n",
    "\n",
    "@when('I enter \"john.doe@example.com\" in the \"Email Address\" field')\n",
    "def i_enter_email_address(browser):\n",
    "    email_field = browser.find_element(By.XPATH, \"/html/body/form/div[1]/ul/li[3]/div/span/input\")\n",
    "    email_field.send_keys(\"john.doe@example.com\")\n",
    "\n",
    "@when('I enter \"(123) 456-7890\" in the \"Phone Number\" field')\n",
    "def i_enter_phone_number(browser):\n",
    "    phone_number_field = browser.find_element(By.XPATH, \"/html/body/form/div[1]/ul/li[4]/div/span/input\")\n",
    "    phone_number_field.send_keys(\"(123) 456-7890\")\n",
    "\n",
    "@when('I leave the \"Cover Letter\" field empty')\n",
    "def i_leave_cover_letter_empty():\n",
    "    # No action needed as the field should remain empty\n",
    "    pass\n",
    "\n",
    "@when('I click the \"Apply\" button')\n",
    "def i_click_apply_button(browser):\n",
    "    apply_button = WebDriverWait(browser, 10).until(\n",
    "        EC.element_to_be_clickable((By.XPATH, \"/html/body/form/div[1]/ul/li[6]/div/div/button\"))\n",
    "    )\n",
    "    browser.execute_script(\"arguments[0].scrollIntoView(true);\", apply_button)\n",
    "    apply_button.click()\n",
    "\n",
    "@then('I should see an error message for the \"Cover Letter\" field')\n",
    "def i_should_see_error_message(browser):\n",
    "    try:\n",
    "        error_message = browser.find_element(By.XPATH, \"/html/body/form/div[1]/ul/li[5]/div/div/span\")\n",
    "        assert error_message.is_displayed()\n",
    "    except Exception as e:\n",
    "        pytest.fail(f\"Error message not displayed: {e}\")\n",
    "\"\"\"\n",
    "SYSTEM_PROMPT = \"You are an expert in software testing frameworks and python code generation. Your task is to read Gherkin tests, Selenium code, HTML and Screenshots of pages to generate assert statements as well as package everything into python-bdd code. Use descriptive function names, use execute_script if you think a click could result in an ElementClickInterceptedException, always use try-except blocks to catch exceptions and raise pytest.fail when checking the assert condition step when needed, name the scenario accordingly, follow good practices. Only output the code.\"\n",
    "USER_PROMPT = f\"\"\"\n",
    "We have ran all navigation steps of the test case, generate an assert statement and a valid pytest-bdd code (has to contain fixtures, scenario, gherkin style definitions, etc) containing every steps and the assert with the following inputs:\n",
    "\n",
    "Base url:{URL}\\n\n",
    "Test case:{test_case}\\n\n",
    "Already executed code:\\n{full_code}\\n\n",
    "selected html of the last page:{nodes}\n",
    "\n",
    "here are some examples of expected code:\\n\\n{EXAMPLES}\n",
    "\"\"\"\n"
   ]
  },
  {
   "cell_type": "code",
   "execution_count": null,
   "metadata": {},
   "outputs": [],
   "source": [
    "# convert the selenium code into a pytest-bdd file\n",
    "from openai import OpenAI\n",
    "def generate_pytest_file():\n",
    "    print(test_case)\n",
    "    api_key = \"\"\n",
    "    client = OpenAI(api_key=api_key)\n",
    "    # Define the code modification prompt\n",
    "    completion = client.chat.completions.create(\n",
    "        model=\"gpt-4o\",\n",
    "        messages=[\n",
    "            {\n",
    "                \"role\": \"system\", \n",
    "                \"content\": SYSTEM_PROMPT\n",
    "            },\n",
    "            {\n",
    "                \"role\": \"user\", \n",
    "                \"content\": [\n",
    "                    {\"type\": \"text\", \"text\": USER_PROMPT},\n",
    "                    {\"type\": \"image_url\", \"image_url\": {\"url\": f\"data:image/jpeg;base64,{b64_img}\"\n",
    "}}\n",
    "                ]\n",
    "            }\n",
    "        ]\n",
    "    )\n",
    "\n",
    "    return completion.choices[0].message.content\n"
   ]
  },
  {
   "cell_type": "code",
   "execution_count": null,
   "metadata": {},
   "outputs": [],
   "source": [
    "# instruction = f\"The following test case has been executed, write an assert statement to verify the outcome of the test case.\\n\\n{test_case}\"\n",
    "# nodes = action_engine.get_nodes(instruction)\n",
    "\n",
    "content = generate_pytest_file()"
   ]
  },
  {
   "cell_type": "code",
   "execution_count": null,
   "metadata": {},
   "outputs": [],
   "source": [
    "print(content)"
   ]
  },
  {
   "cell_type": "code",
   "execution_count": null,
   "metadata": {},
   "outputs": [],
   "source": [
    "pytest_code = content.strip(\"```python\")\n",
    "pytest_code = pytest_code.strip(\"```\")\n",
    "pytest_code = pytest_code.strip(\"```\\n\")"
   ]
  },
  {
   "cell_type": "code",
   "execution_count": null,
   "metadata": {},
   "outputs": [],
   "source": [
    "print(pytest_code)"
   ]
  },
  {
   "cell_type": "code",
   "execution_count": null,
   "metadata": {},
   "outputs": [],
   "source": [
    "with open(\"tests/test_case.py\", \"w\") as f:\n",
    "    f.write(pytest_code)"
   ]
  },
  {
   "cell_type": "code",
   "execution_count": null,
   "metadata": {},
   "outputs": [],
   "source": [
    "!pytest -v tests"
   ]
  }
 ],
 "metadata": {
  "kernelspec": {
   "display_name": "lavague-YXWoMkvp-py3.11",
   "language": "python",
   "name": "python3"
  },
  "language_info": {
   "codemirror_mode": {
    "name": "ipython",
    "version": 3
   },
   "file_extension": ".py",
   "mimetype": "text/x-python",
   "name": "python",
   "nbconvert_exporter": "python",
   "pygments_lexer": "ipython3",
   "version": "3.11.2"
  }
 },
 "nbformat": 4,
 "nbformat_minor": 2
}
