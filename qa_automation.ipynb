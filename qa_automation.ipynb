{
 "cells": [
  {
   "cell_type": "code",
   "execution_count": null,
   "metadata": {},
   "outputs": [],
   "source": [
    "%load_ext autoreload"
   ]
  },
  {
   "cell_type": "code",
   "execution_count": null,
   "metadata": {},
   "outputs": [],
   "source": [
    "\n",
    "from lavague.core import  WorldModel, ActionEngine\n",
    "from lavague.core.agents import WebAgent\n",
    "from lavague.drivers.selenium import SeleniumDriver\n",
    "import os\n",
    "from PIL import Image\n",
    "import base64\n",
    "from io import BytesIO\n",
    "import pandas as pd\n"
   ]
  },
  {
   "cell_type": "markdown",
   "metadata": {},
   "source": [
    "### Load test cases"
   ]
  },
  {
   "cell_type": "code",
   "execution_count": null,
   "metadata": {},
   "outputs": [],
   "source": [
    "def find_and_parse_feature_file(directory):\n",
    "    # List all files in the directory\n",
    "    files = os.listdir(directory)\n",
    "    \n",
    "    # Find the first .feature file\n",
    "    feature_file = None\n",
    "    for file in files:\n",
    "        if file.endswith('.feature'):\n",
    "            feature_file = file\n",
    "            break\n",
    "    \n",
    "    # If no .feature file is found, raise an error\n",
    "    if not feature_file:\n",
    "        raise FileNotFoundError(\"No .feature file found in the directory.\")\n",
    "    \n",
    "    # Construct the full file path\n",
    "    file_path = os.path.join(directory, feature_file)\n",
    "\n",
    "    # Extract the file name without the extension\n",
    "    file_name = os.path.splitext(feature_file)[0]\n",
    "\n",
    "    # Read the contents of the file\n",
    "    with open(file_path, 'r') as file:\n",
    "        file_contents = file.read()\n",
    "\n",
    "    return file_name, file_contents\n",
    "\n",
    "# Example usage\n",
    "directory = 'tests'  # Replace with your actual directory path\n",
    "\n",
    "try:\n",
    "    feature_file_name, test_case = find_and_parse_feature_file(directory)\n",
    "    print(f\"Feature Name: {feature_file_name}\")\n",
    "    print(f\"Feature Contents:\\n{test_case}\")\n",
    "except FileNotFoundError as e:\n",
    "    print(e)\n"
   ]
  },
  {
   "cell_type": "markdown",
   "metadata": {},
   "source": [
    "### Init and run LaVague"
   ]
  },
  {
   "cell_type": "code",
   "execution_count": null,
   "metadata": {},
   "outputs": [],
   "source": [
    "selenium_driver = SeleniumDriver(headless=False)\n",
    "world_model = WorldModel()\n",
    "action_engine = ActionEngine(selenium_driver)\n",
    "agent = WebAgent(world_model, action_engine)\n",
    "\n",
    "URL = \"https://www.saucedemo.com/v1/inventory.html\"\n",
    "OBJECTIVE = f\"Run this test case: \\n\\n{test_case}\""
   ]
  },
  {
   "cell_type": "code",
   "execution_count": null,
   "metadata": {},
   "outputs": [],
   "source": [
    "agent.get(URL)"
   ]
  },
  {
   "cell_type": "code",
   "execution_count": null,
   "metadata": {},
   "outputs": [],
   "source": [
    "agent.run(OBJECTIVE, display=False)"
   ]
  },
  {
   "cell_type": "markdown",
   "metadata": {},
   "source": [
    "### Parse logs"
   ]
  },
  {
   "cell_type": "code",
   "execution_count": null,
   "metadata": {},
   "outputs": [],
   "source": [
    "logs = agent.logger.return_pandas()\n",
    "# logs = pd.read_csv(\"logs_29052023-1157.csv\")\n",
    "logs.head()"
   ]
  },
  {
   "cell_type": "code",
   "execution_count": null,
   "metadata": {},
   "outputs": [],
   "source": [
    "def get_latest_screenshot_path(directory):\n",
    "    # List all files in the directory\n",
    "    files = os.listdir(directory)\n",
    "    \n",
    "    # Get the full path of the files\n",
    "    full_paths = [os.path.join(directory, f) for f in files]\n",
    "    \n",
    "    # Find the most recently modified file\n",
    "    latest_file = max(full_paths, key=os.path.getmtime)\n",
    "    \n",
    "    return latest_file\n",
    "\n",
    "def pil_image_to_base64(image_path):\n",
    "    # Open the image file\n",
    "    with Image.open(image_path) as img:\n",
    "        # Convert image to BytesIO object\n",
    "        # img.show()\n",
    "        buffered = BytesIO()\n",
    "        img.save(buffered, format=\"PNG\")\n",
    "        # Encode the BytesIO object to base64\n",
    "        img_str = base64.b64encode(buffered.getvalue()).decode(\"utf-8\")\n",
    "    return img_str\n"
   ]
  },
  {
   "cell_type": "code",
   "execution_count": null,
   "metadata": {},
   "outputs": [],
   "source": [
    "# extract info from logs\n",
    "# all the code\n",
    "full_code = \"\\n\".join(logs['code'].dropna())\n",
    "\n",
    "# HTML from last step\n",
    "last_step = logs.iloc[-1]\n",
    "last_html = last_step['html']\n",
    "\n",
    "# get nodes from the HTML\n",
    "nodes = action_engine.get_nodes(f\"We have ran the test case, generate a pytest-bdd assert statement.\\n\\ntest case:\\n{test_case}\")\n",
    "last_screenshot_path = get_latest_screenshot_path(last_step[\"screenshots_path\"])\n",
    "b64_img = pil_image_to_base64(last_screenshot_path)"
   ]
  },
  {
   "cell_type": "markdown",
   "metadata": {},
   "source": [
    "### Generate the pytest-bdd file"
   ]
  },
  {
   "cell_type": "code",
   "execution_count": null,
   "metadata": {},
   "outputs": [],
   "source": [
    "EXAMPLES = \"\"\"\n",
    "import pytest\n",
    "from selenium import webdriver\n",
    "from selenium.webdriver.common.by import By\n",
    "from selenium.webdriver.support.ui import WebDriverWait\n",
    "from selenium.webdriver.support import expected_conditions as EC\n",
    "from pytest_bdd import scenarios, given, when, then\n",
    "\n",
    "# Constants\n",
    "BASE_URL = 'https://form.jotform.com/241472287797370'\n",
    "\n",
    "# Scenarios\n",
    "scenarios('test_form_submission.feature')\n",
    "\n",
    "# Fixtures\n",
    "@pytest.fixture\n",
    "def browser():\n",
    "    driver = webdriver.Chrome()\n",
    "    driver.implicitly_wait(10)\n",
    "    driver.get(BASE_URL)\n",
    "    yield driver\n",
    "    driver.quit()\n",
    "\n",
    "# Steps\n",
    "@given('I am on the job application page')\n",
    "def i_am_on_the_job_application_page(browser):\n",
    "    pass\n",
    "\n",
    "@when('I enter \"John\" in the \"First Name\" field')\n",
    "def i_enter_first_name(browser):\n",
    "    first_name_field = browser.find_element(By.XPATH, \"/html/body/form/div[1]/ul/li[2]/div/div/span[1]/input\")\n",
    "    first_name_field.send_keys(\"John\")\n",
    "\n",
    "@when('I enter \"Doe\" in the \"Last Name\" field')\n",
    "def i_enter_last_name(browser):\n",
    "    last_name_field = browser.find_element(By.XPATH, \"/html/body/form/div[1]/ul/li[2]/div/div/span[2]/input\")\n",
    "    last_name_field.send_keys(\"Doe\")\n",
    "\n",
    "@when('I enter \"john.doe@example.com\" in the \"Email Address\" field')\n",
    "def i_enter_email_address(browser):\n",
    "    email_field = browser.find_element(By.XPATH, \"/html/body/form/div[1]/ul/li[3]/div/span/input\")\n",
    "    email_field.send_keys(\"john.doe@example.com\")\n",
    "\n",
    "@when('I enter \"(123) 456-7890\" in the \"Phone Number\" field')\n",
    "def i_enter_phone_number(browser):\n",
    "    phone_number_field = browser.find_element(By.XPATH, \"/html/body/form/div[1]/ul/li[4]/div/span/input\")\n",
    "    phone_number_field.send_keys(\"(123) 456-7890\")\n",
    "\n",
    "@when('I leave the \"Cover Letter\" field empty')\n",
    "def i_leave_cover_letter_empty():\n",
    "    # No action needed as the field should remain empty\n",
    "    pass\n",
    "\n",
    "@when('I click the \"Apply\" button')\n",
    "def i_click_apply_button(browser):\n",
    "    apply_button = WebDriverWait(browser, 10).until(\n",
    "        EC.element_to_be_clickable((By.XPATH, \"/html/body/form/div[1]/ul/li[6]/div/div/button\"))\n",
    "    )\n",
    "    browser.execute_script(\"arguments[0].scrollIntoView(true);\", apply_button)\n",
    "    apply_button.click()\n",
    "\n",
    "@then('I should see an error message for the \"Cover Letter\" field')\n",
    "def i_should_see_error_message(browser):\n",
    "    try:\n",
    "        error_message = browser.find_element(By.XPATH, \"/html/body/form/div[1]/ul/li[5]/div/div/span\")\n",
    "        assert error_message.is_displayed()\n",
    "    except Exception as e:\n",
    "        pytest.fail(f\"Error message not displayed: {e}\")\n",
    "\"\"\"\n",
    "SYSTEM_PROMPT = \"\"\"\n",
    "You are an expert in software testing frameworks and python code generation. \n",
    "Your task is to read Gherkin tests, existing Selenium code, HTML and Screenshots of pages to generate an assert statement that will check only the last condition of the test case. Then you package everything in a pytest-bdd file.\n",
    "Use descriptive function names, use execute_script if you think a click could result in an ElementClickInterceptedException. Code has to contain fixtures, scenario, gherkin style definitions, etc. \n",
    "Always use try-except blocks to catch exceptions and raise pytest.fail when checking the assert condition step when needed, name the scenario accordingly, follow good practices.\n",
    "Never generate asserts for 'Given', 'When' or 'And' steps, only generate asserts for 'Then' steps.\n",
    "Always re-use the selectors of the provided already executed code since we know it targets elements properly, never create new XPATH selector except to generate the final assert statement.\n",
    "Only output code in all your responses. \n",
    "\"\"\"\n",
    "USER_PROMPT = f\"\"\"\n",
    "Generate a valid pytest-bdd file with the following inputs:\n",
    "\n",
    "Base url:{URL}\\n\n",
    "Feature file name: {feature_file_name}\\n\n",
    "Test case:{test_case}\\n\n",
    "Already executed code:\\n{full_code}\\n\n",
    "selected html of the last page:{nodes}\n",
    "\n",
    "here are some examples for reference for testing a form:\\n\\n{EXAMPLES}\n",
    "\"\"\"\n",
    "print(USER_PROMPT)"
   ]
  },
  {
   "cell_type": "code",
   "execution_count": null,
   "metadata": {},
   "outputs": [],
   "source": [
    "# convert the selenium code into a pytest-bdd file\n",
    "from openai import OpenAI\n",
    "def generate_pytest_file():\n",
    "    print(test_case)\n",
    "    api_key = \"sk-...\"\n",
    "    client = OpenAI(api_key=api_key)\n",
    "    # Define the code modification prompt\n",
    "    completion = client.chat.completions.create(\n",
    "        model=\"gpt-4o\",\n",
    "        messages=[\n",
    "            {\n",
    "                \"role\": \"system\", \n",
    "                \"content\": SYSTEM_PROMPT\n",
    "            },\n",
    "            {\n",
    "                \"role\": \"user\", \n",
    "                \"content\": [\n",
    "                    {\"type\": \"text\", \"text\": USER_PROMPT},\n",
    "                    {\"type\": \"image_url\", \"image_url\": {\"url\": f\"data:image/jpeg;base64,{b64_img}\"\n",
    "}}\n",
    "                ]\n",
    "            }\n",
    "        ]\n",
    "    )\n",
    "\n",
    "    return completion.choices[0].message.content\n"
   ]
  },
  {
   "cell_type": "markdown",
   "metadata": {},
   "source": [
    "### Generate the code, cleanup and write directly to tests"
   ]
  },
  {
   "cell_type": "code",
   "execution_count": null,
   "metadata": {},
   "outputs": [],
   "source": [
    "content = generate_pytest_file()"
   ]
  },
  {
   "cell_type": "code",
   "execution_count": null,
   "metadata": {},
   "outputs": [],
   "source": [
    "\n",
    "pytest_code = content.strip(\"```python\")\n",
    "pytest_code = pytest_code.strip(\"```\")\n",
    "pytest_code = pytest_code.strip(\"```\\n\")\n",
    "\n",
    "# TODO: ADD BETTER CODE CLEANUP/STRIPPING\n"
   ]
  },
  {
   "cell_type": "code",
   "execution_count": null,
   "metadata": {},
   "outputs": [],
   "source": [
    "\n",
    "with open(\"tests/test_case.py\", \"w\") as f:\n",
    "    f.write(pytest_code)"
   ]
  },
  {
   "cell_type": "markdown",
   "metadata": {},
   "source": [
    "### Run tests"
   ]
  },
  {
   "cell_type": "code",
   "execution_count": null,
   "metadata": {},
   "outputs": [],
   "source": [
    "!pytest tests"
   ]
  },
  {
   "cell_type": "code",
   "execution_count": null,
   "metadata": {},
   "outputs": [],
   "source": []
  }
 ],
 "metadata": {
  "kernelspec": {
   "display_name": "lavague-YXWoMkvp-py3.11",
   "language": "python",
   "name": "python3"
  },
  "language_info": {
   "codemirror_mode": {
    "name": "ipython",
    "version": 3
   },
   "file_extension": ".py",
   "mimetype": "text/x-python",
   "name": "python",
   "nbconvert_exporter": "python",
   "pygments_lexer": "ipython3",
   "version": "3.11.2"
  }
 },
 "nbformat": 4,
 "nbformat_minor": 2
}
